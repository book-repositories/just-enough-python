{
  "cells": [
    {
      "cell_type": "markdown",
      "metadata": {
        "id": "view-in-github",
        "colab_type": "text"
      },
      "source": [
        "<a href=\"https://colab.research.google.com/github/michael-borck/just_enough_python/blob/main/02_numbers_variables_assignment.ipynb\" target=\"_parent\"><img src=\"https://colab.research.google.com/assets/colab-badge.svg\" alt=\"Open In Colab\"/></a>"
      ]
    },
    {
      "cell_type": "markdown",
      "metadata": {
        "id": "9nAMzrmXnBw6"
      },
      "source": [
        "# Numbers, Variables and Assignment\n",
        "\n",
        "Computers perform operations on values.  This notebook looks at what values are, the operations you can perform on them, and what role variables play in all this.\n",
        "\n",
        "Recall notebooks are composed of text and code cells. We will mainly be editing the code cells to answer some questions. We execute a cell by selecting the cell and the `Shift + Enter`\n",
        "\n",
        "Each hands-on notebook starts by setting up our feedback and code checking mechanism. Run the code cell below to do that. Then you'll be ready to move on to the questions."
      ]
    },
    {
      "cell_type": "code",
      "source": [
        "!pip install jupyterquiz > /dev/null 2>&1\n",
        "!pip install gofer-grader > /dev/null 2>&1"
      ],
      "metadata": {
        "id": "m_cmN5HFx0_2"
      },
      "execution_count": 6,
      "outputs": []
    },
    {
      "cell_type": "code",
      "source": [
        ""
      ],
      "metadata": {
        "id": "vA9YOTdYAQ-M"
      },
      "execution_count": null,
      "outputs": []
    }
  ],
  "metadata": {
    "kernelspec": {
      "display_name": "Python 3",
      "language": "python",
      "name": "python3"
    },
    "language_info": {
      "codemirror_mode": {
        "name": "ipython",
        "version": 3
      },
      "file_extension": ".py",
      "mimetype": "text/x-python",
      "name": "python",
      "nbconvert_exporter": "python",
      "pygments_lexer": "ipython3",
      "version": "3.8.5"
    },
    "colab": {
      "name": "02_numbers_variables_assignment.ipynb",
      "provenance": [],
      "include_colab_link": true
    }
  },
  "nbformat": 4,
  "nbformat_minor": 0
}