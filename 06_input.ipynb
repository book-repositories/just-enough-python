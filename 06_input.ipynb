{
  "cells": [
    {
      "cell_type": "markdown",
      "metadata": {
        "id": "view-in-github",
        "colab_type": "text"
      },
      "source": [
        "<a href=\"https://colab.research.google.com/github/michael-borck/just_enough_python/blob/main/06_input.ipynb\" target=\"_parent\"><img src=\"https://colab.research.google.com/assets/colab-badge.svg\" alt=\"Open In Colab\"/></a>"
      ]
    },
    {
      "cell_type": "markdown",
      "source": [
        "<!--NAVIGATION-->\n",
        "< [Output](05_output.ipynb) | [Contents](00_contents.ipynb) |[Operators](07_operators.ipynb) >"
      ],
      "metadata": {
        "id": "g_tYmKieDeEt"
      }
    },
    {
      "cell_type": "markdown",
      "source": [
        "# Input\n",
        "\n",
        "We know how to create a variable and assign a value, but how can we get the information.  Input may come from the user through the keyboard or external sources like files or databases. \n",
        "\n",
        "In this notebook, we will focus on keyboard input. External sources, like [files](12_files.ipynb) are discussed later.  Python provides us with a built-in `input()`. By default, everything input is a [string](10_strings.ipynb).\n",
        "\n",
        "Typically when using input form the keyboard, we need to display a message telling the user what to input. We often say we need to *prompt* the use. The `input()` function allows us to give it a prompt."
      ],
      "metadata": {
        "id": "dn3ZwpT_0A6i"
      }
    },
    {
      "cell_type": "markdown",
      "source": [
        "## Conclusion\n"
      ],
      "metadata": {
        "id": "8lTuwPxFCYCT"
      }
    },
    {
      "cell_type": "markdown",
      "source": [
        "<!--NAVIGATION-->\n",
        "< [Output](05_output.ipynb) | [Contents](00_contents.ipynb) |[Operators](07_operators.ipynb) >"
      ],
      "metadata": {
        "id": "PHcHnvkdDuGE"
      }
    }
  ],
  "metadata": {
    "kernelspec": {
      "display_name": "Python 3",
      "language": "python",
      "name": "python3"
    },
    "language_info": {
      "codemirror_mode": {
        "name": "ipython",
        "version": 3
      },
      "file_extension": ".py",
      "mimetype": "text/x-python",
      "name": "python",
      "nbconvert_exporter": "python",
      "pygments_lexer": "ipython3",
      "version": "3.8.5"
    },
    "colab": {
      "name": "06_input.ipynb",
      "provenance": [],
      "include_colab_link": true
    }
  },
  "nbformat": 4,
  "nbformat_minor": 0
}