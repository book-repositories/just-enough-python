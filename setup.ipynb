{
  "cells": [
    {
      "cell_type": "markdown",
      "metadata": {
        "id": "view-in-github",
        "colab_type": "text"
      },
      "source": [
        "<a href=\"https://colab.research.google.com/github/michael-borck/just_enough_python/blob/main/setup.ipynb\" target=\"_parent\"><img src=\"https://colab.research.google.com/assets/colab-badge.svg\" alt=\"Open In Colab\"/></a>"
      ]
    },
    {
      "cell_type": "markdown",
      "metadata": {
        "id": "9nAMzrmXnBw6"
      },
      "source": [
        "## Setup\n",
        "\n",
        "This notebook sets up the feedback and code checking mechanism needed for the hands-on interactive tutorial. The calling notebook will executing the code cell below."
      ]
    },
    {
      "cell_type": "code",
      "source": [
        "!pip install jupyterquiz > /dev/null 2>&1\n",
        "!pip install gofer-grader > /dev/null 2>&1"
      ],
      "metadata": {
        "id": "m_cmN5HFx0_2"
      },
      "execution_count": null,
      "outputs": []
    },
    {
      "cell_type": "code",
      "source": [
        "!curl -OL https://raw.githubusercontent.com/michael-borck/just_enough_python/main/00_contents.ipynb > /dev/null 2>&1"
      ],
      "metadata": {
        "id": "vA9YOTdYAQ-M"
      },
      "execution_count": null,
      "outputs": []
    }
  ],
  "metadata": {
    "kernelspec": {
      "display_name": "Python 3",
      "language": "python",
      "name": "python3"
    },
    "language_info": {
      "codemirror_mode": {
        "name": "ipython",
        "version": 3
      },
      "file_extension": ".py",
      "mimetype": "text/x-python",
      "name": "python",
      "nbconvert_exporter": "python",
      "pygments_lexer": "ipython3",
      "version": "3.8.5"
    },
    "colab": {
      "name": "setup.ipynb",
      "provenance": [],
      "include_colab_link": true
    }
  },
  "nbformat": 4,
  "nbformat_minor": 0
}