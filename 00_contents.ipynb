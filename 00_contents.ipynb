{
  "cells": [
    {
      "cell_type": "markdown",
      "metadata": {
        "id": "view-in-github",
        "colab_type": "text"
      },
      "source": [
        "<a href=\"https://colab.research.google.com/github/michael-borck/just_enough_python/blob/main/00_contents.ipynb\" target=\"_parent\"><img src=\"https://colab.research.google.com/assets/colab-badge.svg\" alt=\"Open In Colab\"/></a>"
      ]
    },
    {
      "cell_type": "markdown",
      "metadata": {
        "id": "9nAMzrmXnBw6"
      },
      "source": [
        "# Just Enough Python\n",
        "\n",
        "This series of notebooks introduces the essential components of the programming language Python. The focus of these notebooks is on the programming language and not about craft of programming. The material has been prepared for students in the Faculty of Business and Law at Curtin University. \n",
        "\n",
        "1. [Hello World](01_hello_world.ipynb)\n",
        "2. [Basic Python Syntax](02_basic_python_syntax.ipynb)\n",
        "3. [Values](03_values.ipynb)\n",
        "4. [Variables](04_variables.ipynb)\n",
        "5. [Input and Output](05_input_and_output.ipynb)\n",
        "6. [Functions](06_functions.ipynb)\n",
        "7. [Making Decisions](07_making_decisions.ipynb)\n",
        "8. [Lists](08_lists.ipynb)\n",
        "9. [Going Loopy](09_going_loopy.ipynb)\n",
        "10. [Strings](10_strings.ipynb)\n",
        "11. [Dictionaries](11_dictionaries.ipynb)\n",
        "12. [Files](12_files.ipynb)\n",
        "13. [Importing Things](13_importing_things.ipynb)\n",
        "14. [Orienting you Objects](14_orientating_your_objects.ipynb)\n",
        "15. [Testing](15_testing.ipynb)\n",
        "16. [How to Run Python Code](16_how_to_run_python_code.ipynb)\n",
        "17. [How to Install Python](17_how_to_install_python)\n",
        "\n",
        "\n",
        "# Similar Python Tutorials\n",
        "\n",
        "Here are a three other beginner tutorials that inspired this series of notebooks. They have a data science focus but you may find useful in your learning journey.\n",
        "\n",
        "* [Introduction to Python (Microsoft)](https://docs.microsoft.com/en-us/learn/modules/intro-to-python/)\n",
        "* [Python (Kaggle)](https://www.kaggle.com/learn/python)\n",
        "* [Whirlwind Tour of Python](https://github.com/jakevdp/WhirlwindTourOfPython/blob/master/Index.ipynb)"
      ]
    },
    {
      "cell_type": "code",
      "source": [
        ""
      ],
      "metadata": {
        "id": "rjroUB76TK0_"
      },
      "execution_count": null,
      "outputs": []
    }
  ],
  "metadata": {
    "kernelspec": {
      "display_name": "Python 3",
      "language": "python",
      "name": "python3"
    },
    "language_info": {
      "codemirror_mode": {
        "name": "ipython",
        "version": 3
      },
      "file_extension": ".py",
      "mimetype": "text/x-python",
      "name": "python",
      "nbconvert_exporter": "python",
      "pygments_lexer": "ipython3",
      "version": "3.8.5"
    },
    "colab": {
      "name": "00_contents.ipynb",
      "provenance": [],
      "include_colab_link": true
    }
  },
  "nbformat": 4,
  "nbformat_minor": 0
}