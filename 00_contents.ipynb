{
  "cells": [
    {
      "cell_type": "markdown",
      "metadata": {
        "id": "view-in-github",
        "colab_type": "text"
      },
      "source": [
        "<a href=\"https://colab.research.google.com/github/michael-borck/just_enough_python/blob/main/00_contents.ipynb\" target=\"_parent\"><img src=\"https://colab.research.google.com/assets/colab-badge.svg\" alt=\"Open In Colab\"/></a>"
      ]
    },
    {
      "cell_type": "markdown",
      "metadata": {
        "id": "9nAMzrmXnBw6"
      },
      "source": [
        "# Just Enough Python\n",
        "\n",
        "# Just Enough Python\n",
        "\n",
        "This series of notebooks introduces the essential components of the programming language Python. The focus of these notebooks is on the programming language and not on the craft of programming. The notebooks do not discuss everything about Python but provide a foundation so the student can [take it further](21_taking_it_further.ipynb). The material has been prepared for students in the Faculty of Business and Law at Curtin University. \n",
        "\n",
        "1. [Hello World](01_hello_world.ipynb)\n",
        "2. [Basic Python Syntax](02_basic_python_syntax.ipynb)\n",
        "3. [Values](03_values.ipynb)\n",
        "4. [Variables](04_variables.ipynb)\n",
        "5. [Output](05_output.ipynb)\n",
        "6. [Input](06_input.ipynb)\n",
        "7. [Operators](07_operators.ipynb)\n",
        "8. [Using Functions](08_using_functions.ipynb)\n",
        "9. [Creating Function](09_creating_functions.ipynb)\n",
        "10. [Making Decisions](10_making_decisions.ipynb)\n",
        "11. [Lists](10_lists.ipynb)\n",
        "12. [Going Loopy](11_going_loopy.ipynb)\n",
        "13. [Fixing Errors](12_fixing_errors.ipynb)\n",
        "14. [Strings](13_strings.ipynb)\n",
        "15. [Dictionaries](14_dictionaries.ipynb)\n",
        "16. [Files](15_files.ipynb)\n",
        "17. [Importing Things](16_importing_things.ipynb)\n",
        "18. [Orientating your Objects](17_orientating_your_objects.ipynb)\n",
        "19. [Testing](18_testing.ipynb)\n",
        "20. [How to Run Python Code](19_how_to_run_python_code.ipynb)\n",
        "21. [How to Install Python](20_how_to_install_python.ipynb)\n",
        "22. [Getting Help](21_getting_help.ipynb)\n",
        "23. [Taking it Further](22_taking_it_further.ipynb)\n",
        "\n",
        "\n",
        "# Similar Python Tutorials\n",
        "\n",
        "Here are a three other beginner tutorials that inspired this series of notebooks. They have a data science focus but you may find useful in your learning journey.\n",
        "\n",
        "* [Introduction to Python (Microsoft)](https://docs.microsoft.com/en-us/learn/modules/intro-to-python/)\n",
        "* [Python (Kaggle)](https://www.kaggle.com/learn/python)\n",
        "* [Whirlwind Tour of Python](https://github.com/jakevdp/WhirlwindTourOfPython/blob/master/Index.ipynb)"
      ]
    }
  ],
  "metadata": {
    "kernelspec": {
      "display_name": "Python 3",
      "language": "python",
      "name": "python3"
    },
    "language_info": {
      "codemirror_mode": {
        "name": "ipython",
        "version": 3
      },
      "file_extension": ".py",
      "mimetype": "text/x-python",
      "name": "python",
      "nbconvert_exporter": "python",
      "pygments_lexer": "ipython3",
      "version": "3.8.5"
    },
    "colab": {
      "name": "00_contents.ipynb",
      "provenance": [],
      "include_colab_link": true
    }
  },
  "nbformat": 4,
  "nbformat_minor": 0
}