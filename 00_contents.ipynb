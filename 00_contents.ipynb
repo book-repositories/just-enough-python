{
  "cells": [
    {
      "cell_type": "markdown",
      "metadata": {
        "id": "view-in-github",
        "colab_type": "text"
      },
      "source": [
        "<a href=\"https://colab.research.google.com/github/michael-borck/just_enough_python/blob/main/00_contents.ipynb\" target=\"_parent\"><img src=\"https://colab.research.google.com/assets/colab-badge.svg\" alt=\"Open In Colab\"/></a>"
      ]
    },
    {
      "cell_type": "markdown",
      "metadata": {
        "id": "9nAMzrmXnBw6"
      },
      "source": [
        "# Just Enough Python\n",
        "\n",
        "This series of notebooks introduces the essential components of the programming language Python. The focus of these notebooks is on the programming language and not about craft of programming. The material has been prepared for students in the Faculty of Business and Law at Curtin University. \n",
        "\n",
        "1. [Hello World](01_hello_world.ipynb)\n",
        "2. [Basic Python Syntax](02_basic_python_syntax.ipynb)\n",
        "3. [Values](03_values.ipynb)\n",
        "4. [Variables](04_variables.ipynb)\n",
        "5. [Output](05_output.ipynb)\n",
        "6. [Input](06_input.ipynb)\n",
        "7. [Functions](07_functions.ipynb)\n",
        "8. [Making Decisions](08_making_decisions.ipynb)\n",
        "9. [Lists](09_lists.ipynb)\n",
        "10. [Going Loopy](10_going_loopy.ipynb)\n",
        "11. [Strings](11_strings.ipynb)\n",
        "12. [Dictionaries](12_dictionaries.ipynb)\n",
        "13. [Files](13_files.ipynb)\n",
        "14. [Importing Things](14_importing_things.ipynb)\n",
        "15. [Orientating your Objects](15_orientating_your_objects.ipynb)\n",
        "16. [Testing](16_testing.ipynb)\n",
        "17. [How to Run Python Code](17_how_to_run_python_code.ipynb)\n",
        "18. [How to Install Python](18_how_to_install_python.ipynb)\n",
        "19. [Getting Help](19_getting_help.ipynb)\n",
        "20. [Taking it Further](20_taking_it_further.ipynb)\n",
        "\n",
        "\n",
        "# Similar Python Tutorials\n",
        "\n",
        "Here are a three other beginner tutorials that inspired this series of notebooks. They have a data science focus but you may find useful in your learning journey.\n",
        "\n",
        "* [Introduction to Python (Microsoft)](https://docs.microsoft.com/en-us/learn/modules/intro-to-python/)\n",
        "* [Python (Kaggle)](https://www.kaggle.com/learn/python)\n",
        "* [Whirlwind Tour of Python](https://github.com/jakevdp/WhirlwindTourOfPython/blob/master/Index.ipynb)"
      ]
    },
    {
      "cell_type": "code",
      "source": [
        ""
      ],
      "metadata": {
        "id": "rjroUB76TK0_"
      },
      "execution_count": null,
      "outputs": []
    }
  ],
  "metadata": {
    "kernelspec": {
      "display_name": "Python 3",
      "language": "python",
      "name": "python3"
    },
    "language_info": {
      "codemirror_mode": {
        "name": "ipython",
        "version": 3
      },
      "file_extension": ".py",
      "mimetype": "text/x-python",
      "name": "python",
      "nbconvert_exporter": "python",
      "pygments_lexer": "ipython3",
      "version": "3.8.5"
    },
    "colab": {
      "name": "00_contents.ipynb",
      "provenance": [],
      "include_colab_link": true
    }
  },
  "nbformat": 4,
  "nbformat_minor": 0
}