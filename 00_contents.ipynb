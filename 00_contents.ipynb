{
  "cells": [
    {
      "cell_type": "markdown",
      "metadata": {
        "id": "view-in-github",
        "colab_type": "text"
      },
      "source": [
        "<a href=\"https://colab.research.google.com/github/michael-borck/just_enough_python/blob/main/00_contents.ipynb\" target=\"_parent\"><img src=\"https://colab.research.google.com/assets/colab-badge.svg\" alt=\"Open In Colab\"/></a>"
      ]
    },
    {
      "cell_type": "markdown",
      "metadata": {
        "id": "9nAMzrmXnBw6"
      },
      "source": [
        "# Just Enough Python\n",
        "\n",
        "This series of notebooks introduces the essential components of the programming language Python. The focus of these notebooks is on the programming language and not on the craft of programming. The notebooks do not discuss everything about Python but provide a foundation on many of the language's significant concepts that allow you to [take it further](21_taking_it_further.ipynb) if you wish. The material has been prepared for students in the Faculty of Business and Law at Curtin University. \n",
        "\n",
        "1. [Hello World](01_hello_world.ipynb)\n",
        "2. [Basic Python Syntax](02_basic_python_syntax.ipynb)\n",
        "3. [Values](03_values.ipynb)\n",
        "4. [Variables](04_variables.ipynb)\n",
        "5. [Output](05_output.ipynb)\n",
        "6. [Input](06_input.ipynb)\n",
        "7. [Operators](07_operators.ipynb)\n",
        "8. [Functions](08_functions.ipynb)\n",
        "9. [Making Decisions](09_making_decisions.ipynb)\n",
        "10. [Lists](10_lists.ipynb)\n",
        "11. [Going Loopy](11_going_loopy.ipynb)\n",
        "12. [Strings](12_strings.ipynb)\n",
        "13. [Dictionaries](13_dictionaries.ipynb)\n",
        "14. [Files](14_files.ipynb)\n",
        "15. [Importing Things](15_importing_things.ipynb)\n",
        "16. [Orientating your Objects](16_orientating_your_objects.ipynb)\n",
        "17. [Testing](17_testing.ipynb)\n",
        "18. [How to Run Python Code](18_how_to_run_python_code.ipynb)\n",
        "19. [How to Install Python](19_how_to_install_python.ipynb)\n",
        "20. [Getting Help](20_getting_help.ipynb)\n",
        "21. [Taking it Further](21_taking_it_further.ipynb)\n",
        "\n",
        "\n",
        "# Similar Python Tutorials\n",
        "\n",
        "Here are a three other beginner tutorials that inspired this series of notebooks. They have a data science focus but you may find useful in your learning journey.\n",
        "\n",
        "* [Introduction to Python (Microsoft)](https://docs.microsoft.com/en-us/learn/modules/intro-to-python/)\n",
        "* [Python (Kaggle)](https://www.kaggle.com/learn/python)\n",
        "* [Whirlwind Tour of Python](https://github.com/jakevdp/WhirlwindTourOfPython/blob/master/Index.ipynb)"
      ]
    },
    {
      "cell_type": "code",
      "source": [
        ""
      ],
      "metadata": {
        "id": "rjroUB76TK0_"
      },
      "execution_count": null,
      "outputs": []
    }
  ],
  "metadata": {
    "kernelspec": {
      "display_name": "Python 3",
      "language": "python",
      "name": "python3"
    },
    "language_info": {
      "codemirror_mode": {
        "name": "ipython",
        "version": 3
      },
      "file_extension": ".py",
      "mimetype": "text/x-python",
      "name": "python",
      "nbconvert_exporter": "python",
      "pygments_lexer": "ipython3",
      "version": "3.8.5"
    },
    "colab": {
      "name": "00_contents.ipynb",
      "provenance": [],
      "include_colab_link": true
    }
  },
  "nbformat": 4,
  "nbformat_minor": 0
}