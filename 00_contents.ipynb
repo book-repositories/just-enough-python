{
  "cells": [
    {
      "cell_type": "markdown",
      "metadata": {
        "id": "view-in-github",
        "colab_type": "text"
      },
      "source": [
        "<a href=\"https://colab.research.google.com/github/michael-borck/just_enough_python/blob/main/00_contents.ipynb\" target=\"_parent\"><img src=\"https://colab.research.google.com/assets/colab-badge.svg\" alt=\"Open In Colab\"/></a>"
      ]
    },
    {
      "cell_type": "markdown",
      "metadata": {
        "id": "9nAMzrmXnBw6"
      },
      "source": [
        "# Python Tutorial\n",
        "\n",
        "*Learn an important language for Business Programming.*\n",
        "\n",
        "* 01 Hello World\n",
        "* 02 Numbers, Variables and Assignment\n",
        "* 03 Functions\n",
        "* 04 Making Decisions\n",
        "* 05 Lists\n",
        "* 06 Going Loopy\n",
        "* 07 Strings\n",
        "* 08 Dictionaries\n",
        "* 09 Using External Libraries"
      ]
    },
    {
      "cell_type": "code",
      "source": [
        ""
      ],
      "metadata": {
        "id": "rjroUB76TK0_"
      },
      "execution_count": null,
      "outputs": []
    }
  ],
  "metadata": {
    "kernelspec": {
      "display_name": "Python 3",
      "language": "python",
      "name": "python3"
    },
    "language_info": {
      "codemirror_mode": {
        "name": "ipython",
        "version": 3
      },
      "file_extension": ".py",
      "mimetype": "text/x-python",
      "name": "python",
      "nbconvert_exporter": "python",
      "pygments_lexer": "ipython3",
      "version": "3.8.5"
    },
    "colab": {
      "name": "00_contents.ipynb",
      "provenance": [],
      "include_colab_link": true
    }
  },
  "nbformat": 4,
  "nbformat_minor": 0
}