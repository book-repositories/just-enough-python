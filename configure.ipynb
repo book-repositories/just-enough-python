{
  "nbformat": 4,
  "nbformat_minor": 0,
  "metadata": {
    "colab": {
      "name": "configure.ipynb",
      "provenance": [],
      "authorship_tag": "ABX9TyP+/XA8cEHsuwqvY4UXYV3Z",
      "include_colab_link": true
    },
    "kernelspec": {
      "name": "python3",
      "display_name": "Python 3"
    },
    "language_info": {
      "name": "python"
    }
  },
  "cells": [
    {
      "cell_type": "markdown",
      "metadata": {
        "id": "view-in-github",
        "colab_type": "text"
      },
      "source": [
        "<a href=\"https://colab.research.google.com/github/michael-borck/just_enough_python/blob/main/configure.ipynb\" target=\"_parent\"><img src=\"https://colab.research.google.com/assets/colab-badge.svg\" alt=\"Open In Colab\"/></a>"
      ]
    },
    {
      "cell_type": "markdown",
      "source": [
        "## Configure\n",
        "\n",
        "This notebook sets up the feedback and code checking mechanism needed for the hands-on interactive tutorial. The calling notebook will executing the code cell below."
      ],
      "metadata": {
        "id": "xWYdddkV5n8K"
      }
    },
    {
      "cell_type": "code",
      "execution_count": null,
      "metadata": {
        "id": "OhfJPlUi5mzD"
      },
      "outputs": [],
      "source": [
        "!pip install jupyterquiz > /dev/null 2>&1\n",
        "!pip install gofer-grader > /dev/null 2>&1"
      ]
    },
    {
      "cell_type": "code",
      "source": [
        "import ipywidgets as widgets\n",
        "from IPython.display import display\n",
        "from IPython.display import clear_output\n",
        "\n",
        "def create_multipleChoice_widget(description, options, correct_answer):\n",
        "    if correct_answer not in options:\n",
        "        options.append(correct_answer)\n",
        "    \n",
        "    correct_answer_index = options.index(correct_answer)\n",
        "    \n",
        "    radio_options = [(words, i) for i, words in enumerate(options)]\n",
        "    alternativ = widgets.RadioButtons(\n",
        "        options = radio_options,\n",
        "        description = '',\n",
        "        disabled = False\n",
        "    )\n",
        "    \n",
        "    description_out = widgets.Output()\n",
        "    with description_out:\n",
        "        print(description)\n",
        "        \n",
        "    feedback_out = widgets.Output()\n",
        "\n",
        "    def check_selection(b):\n",
        "        a = int(alternativ.value)\n",
        "        if a==correct_answer_index:\n",
        "            s = '\\x1b[6;30;42m' + \"Correct.\" + '\\x1b[0m' +\"\\n\" #green color\n",
        "        else:\n",
        "            s = '\\x1b[5;30;41m' + \"Wrong. \" + '\\x1b[0m' +\"\\n\" #red color\n",
        "        with feedback_out:\n",
        "            clear_output()\n",
        "            print(s)\n",
        "        return\n",
        "    \n",
        "    check = widgets.Button(description=\"submit\")\n",
        "    check.on_click(check_selection)\n",
        "    \n",
        "    \n",
        "    return widgets.VBox([description_out, alternativ, check, feedback_out])"
      ],
      "metadata": {
        "id": "SIwUfavS6WzU"
      },
      "execution_count": null,
      "outputs": []
    },
    {
      "cell_type": "code",
      "source": [
        ""
      ],
      "metadata": {
        "id": "jcYtnWKl7GO6"
      },
      "execution_count": null,
      "outputs": []
    }
  ]
}