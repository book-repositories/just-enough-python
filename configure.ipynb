{
  "nbformat": 4,
  "nbformat_minor": 0,
  "metadata": {
    "colab": {
      "name": "configure.ipynb",
      "provenance": [],
      "authorship_tag": "ABX9TyMoze7cdUy+4rnFeUTD3C5w",
      "include_colab_link": true
    },
    "kernelspec": {
      "name": "python3",
      "display_name": "Python 3"
    },
    "language_info": {
      "name": "python"
    }
  },
  "cells": [
    {
      "cell_type": "markdown",
      "metadata": {
        "id": "view-in-github",
        "colab_type": "text"
      },
      "source": [
        "<a href=\"https://colab.research.google.com/github/michael-borck/just_enough_python/blob/main/configure.ipynb\" target=\"_parent\"><img src=\"https://colab.research.google.com/assets/colab-badge.svg\" alt=\"Open In Colab\"/></a>"
      ]
    },
    {
      "cell_type": "markdown",
      "source": [
        "## Configure\n",
        "\n",
        "This notebook sets up the feedback and code checking mechanism needed for the hands-on interactive tutorial. The calling notebook will executing the code cell below."
      ],
      "metadata": {
        "id": "xWYdddkV5n8K"
      }
    },
    {
      "cell_type": "code",
      "execution_count": null,
      "metadata": {
        "id": "OhfJPlUi5mzD"
      },
      "outputs": [],
      "source": [
        "!pip install jupyterquiz > /dev/null 2>&1\n",
        "!pip install gofer-grader > /dev/null 2>&1"
      ]
    }
  ]
}